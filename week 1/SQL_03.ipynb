{
    "metadata": {
        "kernelspec": {
            "name": "SQL",
            "display_name": "SQL",
            "language": "sql"
        },
        "language_info": {
            "name": "sql",
            "version": ""
        }
    },
    "nbformat_minor": 2,
    "nbformat": 4,
    "cells": [
        {
            "cell_type": "code",
            "source": [
                "USE AdventureWorks2019\r\n",
                "GO"
            ],
            "metadata": {
                "azdata_cell_guid": "6acec9c8-1ff9-48bf-a8a3-dd779fe87938"
            },
            "outputs": [
                {
                    "output_type": "display_data",
                    "data": {
                        "text/html": "Commands completed successfully."
                    },
                    "metadata": {}
                },
                {
                    "output_type": "display_data",
                    "data": {
                        "text/html": "Total execution time: 00:00:00.190"
                    },
                    "metadata": {}
                }
            ],
            "execution_count": 1
        },
        {
            "cell_type": "markdown",
            "source": [
                "Exercise 1"
            ],
            "metadata": {
                "azdata_cell_guid": "b8f829fc-ab8b-4105-a82f-cde9248ef3a5"
            }
        },
        {
            "cell_type": "code",
            "source": [
                "WITH Sales_CTE (SalesPersonID, NumberOfOrders) \r\n",
                "AS \r\n",
                "( \r\n",
                "\tSELECT soh.SalesPersonID, COUNT(soh.SalesOrderID) \r\n",
                "\tFROM Sales.SalesOrderHeader soh\r\n",
                "\tWHERE SalesPersonID IS NOT NULL \r\n",
                "\tGROUP BY SalesPersonID \r\n",
                ") \r\n",
                "SELECT SalesPersonID,\r\n",
                "       AVG(NumberOfOrders) AS AverageOrder\r\n",
                "FROM Sales_CTE\r\n",
                "GROUP BY SalesPersonID "
            ],
            "metadata": {
                "azdata_cell_guid": "cbe6f899-d6d8-426c-9577-67157643d034"
            },
            "outputs": [
                {
                    "output_type": "display_data",
                    "data": {
                        "text/html": "(17 rows affected)"
                    },
                    "metadata": {}
                },
                {
                    "output_type": "display_data",
                    "data": {
                        "text/html": "Total execution time: 00:00:01.375"
                    },
                    "metadata": {}
                },
                {
                    "output_type": "execute_result",
                    "metadata": {},
                    "execution_count": 6,
                    "data": {
                        "application/vnd.dataresource+json": {
                            "schema": {
                                "fields": [
                                    {
                                        "name": "SalesPersonID"
                                    },
                                    {
                                        "name": "AverageOrder"
                                    }
                                ]
                            },
                            "data": [
                                {
                                    "0": "274",
                                    "1": "48"
                                },
                                {
                                    "0": "275",
                                    "1": "450"
                                },
                                {
                                    "0": "276",
                                    "1": "418"
                                },
                                {
                                    "0": "277",
                                    "1": "473"
                                },
                                {
                                    "0": "278",
                                    "1": "234"
                                },
                                {
                                    "0": "279",
                                    "1": "429"
                                },
                                {
                                    "0": "280",
                                    "1": "95"
                                },
                                {
                                    "0": "281",
                                    "1": "242"
                                },
                                {
                                    "0": "282",
                                    "1": "271"
                                },
                                {
                                    "0": "283",
                                    "1": "189"
                                },
                                {
                                    "0": "284",
                                    "1": "140"
                                },
                                {
                                    "0": "285",
                                    "1": "16"
                                },
                                {
                                    "0": "286",
                                    "1": "109"
                                },
                                {
                                    "0": "287",
                                    "1": "39"
                                },
                                {
                                    "0": "288",
                                    "1": "130"
                                },
                                {
                                    "0": "289",
                                    "1": "348"
                                },
                                {
                                    "0": "290",
                                    "1": "175"
                                }
                            ]
                        },
                        "text/html": [
                            "<table>",
                            "<tr><th>SalesPersonID</th><th>AverageOrder</th></tr>",
                            "<tr><td>274</td><td>48</td></tr>",
                            "<tr><td>275</td><td>450</td></tr>",
                            "<tr><td>276</td><td>418</td></tr>",
                            "<tr><td>277</td><td>473</td></tr>",
                            "<tr><td>278</td><td>234</td></tr>",
                            "<tr><td>279</td><td>429</td></tr>",
                            "<tr><td>280</td><td>95</td></tr>",
                            "<tr><td>281</td><td>242</td></tr>",
                            "<tr><td>282</td><td>271</td></tr>",
                            "<tr><td>283</td><td>189</td></tr>",
                            "<tr><td>284</td><td>140</td></tr>",
                            "<tr><td>285</td><td>16</td></tr>",
                            "<tr><td>286</td><td>109</td></tr>",
                            "<tr><td>287</td><td>39</td></tr>",
                            "<tr><td>288</td><td>130</td></tr>",
                            "<tr><td>289</td><td>348</td></tr>",
                            "<tr><td>290</td><td>175</td></tr>",
                            "</table>"
                        ]
                    }
                }
            ],
            "execution_count": 6
        },
        {
            "cell_type": "markdown",
            "source": [
                "Exercise 2"
            ],
            "metadata": {
                "azdata_cell_guid": "02c8a903-b40b-4cc6-b552-fa11755f075c"
            }
        },
        {
            "cell_type": "code",
            "source": [
                "SELECT table1.Year, table1.TotalOrdersForYear, table2.SalesPersonID, table2.SalesPersonTotalOrders \r\n",
                "FROM\r\n",
                "    (\r\n",
                "        SELECT YEAR(OrderDate) AS [Year],\r\n",
                "               COUNT(SalesOrderID) AS TotalOrdersForYear \r\n",
                "        FROM Sales.SalesOrderHeader SOH \r\n",
                "        WHERE SalesPersonID IS NOT NULL\r\n",
                "        GROUP BY YEAR(OrderDate)\r\n",
                "    ) AS table1\r\n",
                "    INNER JOIN \r\n",
                "    (\r\n",
                "        SELECT YEAR(OrderDate) AS [Year],\r\n",
                "               SalesPersonID,\r\n",
                "               COUNT(SalesOrderID) AS SalesPersonTotalOrders\r\n",
                "        FROM Sales.SalesOrderHeader \r\n",
                "        WHERE SalesPersonID IS NOT NULL\r\n",
                "        GROUP BY YEAR(OrderDate),SalesPersonID\r\n",
                "    ) AS table2\r\n",
                "    ON table1.Year = table2.Year"
            ],
            "metadata": {
                "azdata_cell_guid": "0b934e93-6d35-4fc1-9eab-617dcd09e6cc"
            },
            "outputs": [
                {
                    "output_type": "display_data",
                    "data": {
                        "text/html": "(58 rows affected)"
                    },
                    "metadata": {}
                },
                {
                    "output_type": "display_data",
                    "data": {
                        "text/html": "Total execution time: 00:00:00.231"
                    },
                    "metadata": {}
                },
                {
                    "output_type": "execute_result",
                    "metadata": {},
                    "execution_count": 22,
                    "data": {
                        "application/vnd.dataresource+json": {
                            "schema": {
                                "fields": [
                                    {
                                        "name": "Year"
                                    },
                                    {
                                        "name": "TotalOrdersForYear"
                                    },
                                    {
                                        "name": "SalesPersonID"
                                    },
                                    {
                                        "name": "SalesPersonTotalOrders"
                                    }
                                ]
                            },
                            "data": [
                                {
                                    "0": "2011",
                                    "1": "406",
                                    "2": "281",
                                    "3": "33"
                                },
                                {
                                    "0": "2012",
                                    "1": "1172",
                                    "2": "282",
                                    "3": "86"
                                },
                                {
                                    "0": "2013",
                                    "1": "1598",
                                    "2": "283",
                                    "3": "72"
                                },
                                {
                                    "0": "2014",
                                    "1": "630",
                                    "2": "276",
                                    "3": "59"
                                },
                                {
                                    "0": "2014",
                                    "1": "630",
                                    "2": "282",
                                    "3": "43"
                                },
                                {
                                    "0": "2013",
                                    "1": "1598",
                                    "2": "275",
                                    "3": "175"
                                },
                                {
                                    "0": "2014",
                                    "1": "630",
                                    "2": "290",
                                    "3": "39"
                                },
                                {
                                    "0": "2012",
                                    "1": "1172",
                                    "2": "279",
                                    "3": "153"
                                },
                                {
                                    "0": "2013",
                                    "1": "1598",
                                    "2": "289",
                                    "3": "170"
                                },
                                {
                                    "0": "2011",
                                    "1": "406",
                                    "2": "278",
                                    "3": "30"
                                },
                                {
                                    "0": "2011",
                                    "1": "406",
                                    "2": "275",
                                    "3": "65"
                                },
                                {
                                    "0": "2013",
                                    "1": "1598",
                                    "2": "286",
                                    "3": "66"
                                },
                                {
                                    "0": "2014",
                                    "1": "630",
                                    "2": "279",
                                    "3": "54"
                                },
                                {
                                    "0": "2012",
                                    "1": "1172",
                                    "2": "280",
                                    "3": "45"
                                },
                                {
                                    "0": "2012",
                                    "1": "1172",
                                    "2": "274",
                                    "3": "22"
                                },
                                {
                                    "0": "2011",
                                    "1": "406",
                                    "2": "279",
                                    "3": "63"
                                },
                                {
                                    "0": "2013",
                                    "1": "1598",
                                    "2": "290",
                                    "3": "94"
                                },
                                {
                                    "0": "2011",
                                    "1": "406",
                                    "2": "276",
                                    "3": "46"
                                },
                                {
                                    "0": "2013",
                                    "1": "1598",
                                    "2": "281",
                                    "3": "98"
                                },
                                {
                                    "0": "2014",
                                    "1": "630",
                                    "2": "274",
                                    "3": "8"
                                },
                                {
                                    "0": "2013",
                                    "1": "1598",
                                    "2": "287",
                                    "3": "29"
                                },
                                {
                                    "0": "2014",
                                    "1": "630",
                                    "2": "288",
                                    "3": "44"
                                },
                                {
                                    "0": "2012",
                                    "1": "1172",
                                    "2": "277",
                                    "3": "166"
                                },
                                {
                                    "0": "2012",
                                    "1": "1172",
                                    "2": "283",
                                    "3": "63"
                                },
                                {
                                    "0": "2013",
                                    "1": "1598",
                                    "2": "284",
                                    "3": "82"
                                },
                                {
                                    "0": "2014",
                                    "1": "630",
                                    "2": "277",
                                    "3": "63"
                                },
                                {
                                    "0": "2013",
                                    "1": "1598",
                                    "2": "278",
                                    "3": "89"
                                },
                                {
                                    "0": "2014",
                                    "1": "630",
                                    "2": "285",
                                    "3": "4"
                                },
                                {
                                    "0": "2012",
                                    "1": "1172",
                                    "2": "278",
                                    "3": "80"
                                },
                                {
                                    "0": "2011",
                                    "1": "406",
                                    "2": "274",
                                    "3": "4"
                                },
                                {
                                    "0": "2012",
                                    "1": "1172",
                                    "2": "289",
                                    "3": "111"
                                },
                                {
                                    "0": "2014",
                                    "1": "630",
                                    "2": "280",
                                    "3": "9"
                                },
                                {
                                    "0": "2013",
                                    "1": "1598",
                                    "2": "285",
                                    "3": "12"
                                },
                                {
                                    "0": "2013",
                                    "1": "1598",
                                    "2": "279",
                                    "3": "159"
                                },
                                {
                                    "0": "2014",
                                    "1": "630",
                                    "2": "286",
                                    "3": "43"
                                },
                                {
                                    "0": "2012",
                                    "1": "1172",
                                    "2": "275",
                                    "3": "148"
                                },
                                {
                                    "0": "2011",
                                    "1": "406",
                                    "2": "282",
                                    "3": "56"
                                },
                                {
                                    "0": "2012",
                                    "1": "1172",
                                    "2": "281",
                                    "3": "74"
                                },
                                {
                                    "0": "2013",
                                    "1": "1598",
                                    "2": "282",
                                    "3": "86"
                                },
                                {
                                    "0": "2014",
                                    "1": "630",
                                    "2": "283",
                                    "3": "26"
                                },
                                {
                                    "0": "2013",
                                    "1": "1598",
                                    "2": "276",
                                    "3": "162"
                                },
                                {
                                    "0": "2014",
                                    "1": "630",
                                    "2": "289",
                                    "3": "67"
                                },
                                {
                                    "0": "2011",
                                    "1": "406",
                                    "2": "283",
                                    "3": "28"
                                },
                                {
                                    "0": "2012",
                                    "1": "1172",
                                    "2": "276",
                                    "3": "151"
                                },
                                {
                                    "0": "2012",
                                    "1": "1172",
                                    "2": "284",
                                    "3": "24"
                                },
                                {
                                    "0": "2014",
                                    "1": "630",
                                    "2": "278",
                                    "3": "35"
                                },
                                {
                                    "0": "2013",
                                    "1": "1598",
                                    "2": "277",
                                    "3": "185"
                                },
                                {
                                    "0": "2014",
                                    "1": "630",
                                    "2": "284",
                                    "3": "34"
                                },
                                {
                                    "0": "2011",
                                    "1": "406",
                                    "2": "280",
                                    "3": "22"
                                },
                                {
                                    "0": "2012",
                                    "1": "1172",
                                    "2": "287",
                                    "3": "7"
                                },
                                {
                                    "0": "2012",
                                    "1": "1172",
                                    "2": "290",
                                    "3": "42"
                                },
                                {
                                    "0": "2011",
                                    "1": "406",
                                    "2": "277",
                                    "3": "59"
                                },
                                {
                                    "0": "2013",
                                    "1": "1598",
                                    "2": "288",
                                    "3": "86"
                                },
                                {
                                    "0": "2014",
                                    "1": "630",
                                    "2": "275",
                                    "3": "62"
                                },
                                {
                                    "0": "2014",
                                    "1": "630",
                                    "2": "281",
                                    "3": "37"
                                },
                                {
                                    "0": "2013",
                                    "1": "1598",
                                    "2": "280",
                                    "3": "19"
                                },
                                {
                                    "0": "2014",
                                    "1": "630",
                                    "2": "287",
                                    "3": "3"
                                },
                                {
                                    "0": "2013",
                                    "1": "1598",
                                    "2": "274",
                                    "3": "14"
                                }
                            ]
                        },
                        "text/html": [
                            "<table>",
                            "<tr><th>Year</th><th>TotalOrdersForYear</th><th>SalesPersonID</th><th>SalesPersonTotalOrders</th></tr>",
                            "<tr><td>2011</td><td>406</td><td>281</td><td>33</td></tr>",
                            "<tr><td>2012</td><td>1172</td><td>282</td><td>86</td></tr>",
                            "<tr><td>2013</td><td>1598</td><td>283</td><td>72</td></tr>",
                            "<tr><td>2014</td><td>630</td><td>276</td><td>59</td></tr>",
                            "<tr><td>2014</td><td>630</td><td>282</td><td>43</td></tr>",
                            "<tr><td>2013</td><td>1598</td><td>275</td><td>175</td></tr>",
                            "<tr><td>2014</td><td>630</td><td>290</td><td>39</td></tr>",
                            "<tr><td>2012</td><td>1172</td><td>279</td><td>153</td></tr>",
                            "<tr><td>2013</td><td>1598</td><td>289</td><td>170</td></tr>",
                            "<tr><td>2011</td><td>406</td><td>278</td><td>30</td></tr>",
                            "<tr><td>2011</td><td>406</td><td>275</td><td>65</td></tr>",
                            "<tr><td>2013</td><td>1598</td><td>286</td><td>66</td></tr>",
                            "<tr><td>2014</td><td>630</td><td>279</td><td>54</td></tr>",
                            "<tr><td>2012</td><td>1172</td><td>280</td><td>45</td></tr>",
                            "<tr><td>2012</td><td>1172</td><td>274</td><td>22</td></tr>",
                            "<tr><td>2011</td><td>406</td><td>279</td><td>63</td></tr>",
                            "<tr><td>2013</td><td>1598</td><td>290</td><td>94</td></tr>",
                            "<tr><td>2011</td><td>406</td><td>276</td><td>46</td></tr>",
                            "<tr><td>2013</td><td>1598</td><td>281</td><td>98</td></tr>",
                            "<tr><td>2014</td><td>630</td><td>274</td><td>8</td></tr>",
                            "<tr><td>2013</td><td>1598</td><td>287</td><td>29</td></tr>",
                            "<tr><td>2014</td><td>630</td><td>288</td><td>44</td></tr>",
                            "<tr><td>2012</td><td>1172</td><td>277</td><td>166</td></tr>",
                            "<tr><td>2012</td><td>1172</td><td>283</td><td>63</td></tr>",
                            "<tr><td>2013</td><td>1598</td><td>284</td><td>82</td></tr>",
                            "<tr><td>2014</td><td>630</td><td>277</td><td>63</td></tr>",
                            "<tr><td>2013</td><td>1598</td><td>278</td><td>89</td></tr>",
                            "<tr><td>2014</td><td>630</td><td>285</td><td>4</td></tr>",
                            "<tr><td>2012</td><td>1172</td><td>278</td><td>80</td></tr>",
                            "<tr><td>2011</td><td>406</td><td>274</td><td>4</td></tr>",
                            "<tr><td>2012</td><td>1172</td><td>289</td><td>111</td></tr>",
                            "<tr><td>2014</td><td>630</td><td>280</td><td>9</td></tr>",
                            "<tr><td>2013</td><td>1598</td><td>285</td><td>12</td></tr>",
                            "<tr><td>2013</td><td>1598</td><td>279</td><td>159</td></tr>",
                            "<tr><td>2014</td><td>630</td><td>286</td><td>43</td></tr>",
                            "<tr><td>2012</td><td>1172</td><td>275</td><td>148</td></tr>",
                            "<tr><td>2011</td><td>406</td><td>282</td><td>56</td></tr>",
                            "<tr><td>2012</td><td>1172</td><td>281</td><td>74</td></tr>",
                            "<tr><td>2013</td><td>1598</td><td>282</td><td>86</td></tr>",
                            "<tr><td>2014</td><td>630</td><td>283</td><td>26</td></tr>",
                            "<tr><td>2013</td><td>1598</td><td>276</td><td>162</td></tr>",
                            "<tr><td>2014</td><td>630</td><td>289</td><td>67</td></tr>",
                            "<tr><td>2011</td><td>406</td><td>283</td><td>28</td></tr>",
                            "<tr><td>2012</td><td>1172</td><td>276</td><td>151</td></tr>",
                            "<tr><td>2012</td><td>1172</td><td>284</td><td>24</td></tr>",
                            "<tr><td>2014</td><td>630</td><td>278</td><td>35</td></tr>",
                            "<tr><td>2013</td><td>1598</td><td>277</td><td>185</td></tr>",
                            "<tr><td>2014</td><td>630</td><td>284</td><td>34</td></tr>",
                            "<tr><td>2011</td><td>406</td><td>280</td><td>22</td></tr>",
                            "<tr><td>2012</td><td>1172</td><td>287</td><td>7</td></tr>",
                            "<tr><td>2012</td><td>1172</td><td>290</td><td>42</td></tr>",
                            "<tr><td>2011</td><td>406</td><td>277</td><td>59</td></tr>",
                            "<tr><td>2013</td><td>1598</td><td>288</td><td>86</td></tr>",
                            "<tr><td>2014</td><td>630</td><td>275</td><td>62</td></tr>",
                            "<tr><td>2014</td><td>630</td><td>281</td><td>37</td></tr>",
                            "<tr><td>2013</td><td>1598</td><td>280</td><td>19</td></tr>",
                            "<tr><td>2014</td><td>630</td><td>287</td><td>3</td></tr>",
                            "<tr><td>2013</td><td>1598</td><td>274</td><td>14</td></tr>",
                            "</table>"
                        ]
                    }
                }
            ],
            "execution_count": 22
        },
        {
            "cell_type": "markdown",
            "source": [
                "Exercise 3"
            ],
            "metadata": {
                "azdata_cell_guid": "79d789eb-4344-4394-9941-3e9b79d7183e"
            }
        },
        {
            "cell_type": "code",
            "source": [
                "DROP TABLE IF EXISTS #ptemp"
            ],
            "metadata": {
                "azdata_cell_guid": "8cfdf073-fdbf-41f7-a2a2-75d8cb8465f8"
            },
            "outputs": [
                {
                    "output_type": "display_data",
                    "data": {
                        "text/html": "Commands completed successfully."
                    },
                    "metadata": {}
                },
                {
                    "output_type": "display_data",
                    "data": {
                        "text/html": "Total execution time: 00:00:00.192"
                    },
                    "metadata": {}
                }
            ],
            "execution_count": 26
        },
        {
            "cell_type": "code",
            "source": [
                "SELECT table1.[Year], table1.TotalOrdersForYear, table2.SalesPersonID, table2.SalesPersonTotalOrders INTO #ptemp\r\n",
                "FROM \r\n",
                "    (\r\n",
                "        SELECT YEAR(OrderDate) AS [Year],\r\n",
                "               COUNT(SalesOrderID) AS TotalOrdersForYear \r\n",
                "        FROM Sales.SalesOrderHeader SOH \r\n",
                "        WHERE SalesPersonID IS NOT NULL\r\n",
                "        GROUP BY YEAR(OrderDate)\r\n",
                "    ) AS table1\r\n",
                "    INNER JOIN \r\n",
                "    (\r\n",
                "        SELECT YEAR(OrderDate) AS [Year],\r\n",
                "               SalesPersonID,\r\n",
                "               COUNT(SalesOrderID) AS SalesPersonTotalOrders\r\n",
                "        FROM Sales.SalesOrderHeader \r\n",
                "        WHERE SalesPersonID IS NOT NULL\r\n",
                "        GROUP BY YEAR(OrderDate),SalesPersonID\r\n",
                "    ) AS table2\r\n",
                "    ON table1.Year = table2.Year\r\n",
                "\r\n",
                "SELECT * \r\n",
                "FROM #ptemp"
            ],
            "metadata": {
                "azdata_cell_guid": "e75e0c2d-d068-4b80-a8fb-9db5fa41ffb1",
                "tags": []
            },
            "outputs": [
                {
                    "output_type": "display_data",
                    "data": {
                        "text/html": "(58 rows affected)"
                    },
                    "metadata": {}
                },
                {
                    "output_type": "display_data",
                    "data": {
                        "text/html": "(58 rows affected)"
                    },
                    "metadata": {}
                },
                {
                    "output_type": "display_data",
                    "data": {
                        "text/html": "Total execution time: 00:00:00.236"
                    },
                    "metadata": {}
                },
                {
                    "output_type": "execute_result",
                    "metadata": {},
                    "execution_count": 27,
                    "data": {
                        "application/vnd.dataresource+json": {
                            "schema": {
                                "fields": [
                                    {
                                        "name": "Year"
                                    },
                                    {
                                        "name": "TotalOrdersForYear"
                                    },
                                    {
                                        "name": "SalesPersonID"
                                    },
                                    {
                                        "name": "SalesPersonTotalOrders"
                                    }
                                ]
                            },
                            "data": [
                                {
                                    "0": "2011",
                                    "1": "406",
                                    "2": "281",
                                    "3": "33"
                                },
                                {
                                    "0": "2012",
                                    "1": "1172",
                                    "2": "282",
                                    "3": "86"
                                },
                                {
                                    "0": "2013",
                                    "1": "1598",
                                    "2": "283",
                                    "3": "72"
                                },
                                {
                                    "0": "2014",
                                    "1": "630",
                                    "2": "276",
                                    "3": "59"
                                },
                                {
                                    "0": "2014",
                                    "1": "630",
                                    "2": "282",
                                    "3": "43"
                                },
                                {
                                    "0": "2013",
                                    "1": "1598",
                                    "2": "275",
                                    "3": "175"
                                },
                                {
                                    "0": "2014",
                                    "1": "630",
                                    "2": "290",
                                    "3": "39"
                                },
                                {
                                    "0": "2012",
                                    "1": "1172",
                                    "2": "279",
                                    "3": "153"
                                },
                                {
                                    "0": "2013",
                                    "1": "1598",
                                    "2": "289",
                                    "3": "170"
                                },
                                {
                                    "0": "2011",
                                    "1": "406",
                                    "2": "278",
                                    "3": "30"
                                },
                                {
                                    "0": "2011",
                                    "1": "406",
                                    "2": "275",
                                    "3": "65"
                                },
                                {
                                    "0": "2013",
                                    "1": "1598",
                                    "2": "286",
                                    "3": "66"
                                },
                                {
                                    "0": "2014",
                                    "1": "630",
                                    "2": "279",
                                    "3": "54"
                                },
                                {
                                    "0": "2012",
                                    "1": "1172",
                                    "2": "280",
                                    "3": "45"
                                },
                                {
                                    "0": "2012",
                                    "1": "1172",
                                    "2": "274",
                                    "3": "22"
                                },
                                {
                                    "0": "2011",
                                    "1": "406",
                                    "2": "279",
                                    "3": "63"
                                },
                                {
                                    "0": "2013",
                                    "1": "1598",
                                    "2": "290",
                                    "3": "94"
                                },
                                {
                                    "0": "2011",
                                    "1": "406",
                                    "2": "276",
                                    "3": "46"
                                },
                                {
                                    "0": "2013",
                                    "1": "1598",
                                    "2": "281",
                                    "3": "98"
                                },
                                {
                                    "0": "2014",
                                    "1": "630",
                                    "2": "274",
                                    "3": "8"
                                },
                                {
                                    "0": "2013",
                                    "1": "1598",
                                    "2": "287",
                                    "3": "29"
                                },
                                {
                                    "0": "2014",
                                    "1": "630",
                                    "2": "288",
                                    "3": "44"
                                },
                                {
                                    "0": "2012",
                                    "1": "1172",
                                    "2": "277",
                                    "3": "166"
                                },
                                {
                                    "0": "2012",
                                    "1": "1172",
                                    "2": "283",
                                    "3": "63"
                                },
                                {
                                    "0": "2013",
                                    "1": "1598",
                                    "2": "284",
                                    "3": "82"
                                },
                                {
                                    "0": "2014",
                                    "1": "630",
                                    "2": "277",
                                    "3": "63"
                                },
                                {
                                    "0": "2013",
                                    "1": "1598",
                                    "2": "278",
                                    "3": "89"
                                },
                                {
                                    "0": "2014",
                                    "1": "630",
                                    "2": "285",
                                    "3": "4"
                                },
                                {
                                    "0": "2012",
                                    "1": "1172",
                                    "2": "278",
                                    "3": "80"
                                },
                                {
                                    "0": "2011",
                                    "1": "406",
                                    "2": "274",
                                    "3": "4"
                                },
                                {
                                    "0": "2012",
                                    "1": "1172",
                                    "2": "289",
                                    "3": "111"
                                },
                                {
                                    "0": "2014",
                                    "1": "630",
                                    "2": "280",
                                    "3": "9"
                                },
                                {
                                    "0": "2013",
                                    "1": "1598",
                                    "2": "285",
                                    "3": "12"
                                },
                                {
                                    "0": "2013",
                                    "1": "1598",
                                    "2": "279",
                                    "3": "159"
                                },
                                {
                                    "0": "2014",
                                    "1": "630",
                                    "2": "286",
                                    "3": "43"
                                },
                                {
                                    "0": "2012",
                                    "1": "1172",
                                    "2": "275",
                                    "3": "148"
                                },
                                {
                                    "0": "2011",
                                    "1": "406",
                                    "2": "282",
                                    "3": "56"
                                },
                                {
                                    "0": "2012",
                                    "1": "1172",
                                    "2": "281",
                                    "3": "74"
                                },
                                {
                                    "0": "2013",
                                    "1": "1598",
                                    "2": "282",
                                    "3": "86"
                                },
                                {
                                    "0": "2014",
                                    "1": "630",
                                    "2": "283",
                                    "3": "26"
                                },
                                {
                                    "0": "2013",
                                    "1": "1598",
                                    "2": "276",
                                    "3": "162"
                                },
                                {
                                    "0": "2014",
                                    "1": "630",
                                    "2": "289",
                                    "3": "67"
                                },
                                {
                                    "0": "2011",
                                    "1": "406",
                                    "2": "283",
                                    "3": "28"
                                },
                                {
                                    "0": "2012",
                                    "1": "1172",
                                    "2": "276",
                                    "3": "151"
                                },
                                {
                                    "0": "2012",
                                    "1": "1172",
                                    "2": "284",
                                    "3": "24"
                                },
                                {
                                    "0": "2014",
                                    "1": "630",
                                    "2": "278",
                                    "3": "35"
                                },
                                {
                                    "0": "2013",
                                    "1": "1598",
                                    "2": "277",
                                    "3": "185"
                                },
                                {
                                    "0": "2014",
                                    "1": "630",
                                    "2": "284",
                                    "3": "34"
                                },
                                {
                                    "0": "2011",
                                    "1": "406",
                                    "2": "280",
                                    "3": "22"
                                },
                                {
                                    "0": "2012",
                                    "1": "1172",
                                    "2": "287",
                                    "3": "7"
                                },
                                {
                                    "0": "2012",
                                    "1": "1172",
                                    "2": "290",
                                    "3": "42"
                                },
                                {
                                    "0": "2011",
                                    "1": "406",
                                    "2": "277",
                                    "3": "59"
                                },
                                {
                                    "0": "2013",
                                    "1": "1598",
                                    "2": "288",
                                    "3": "86"
                                },
                                {
                                    "0": "2014",
                                    "1": "630",
                                    "2": "275",
                                    "3": "62"
                                },
                                {
                                    "0": "2014",
                                    "1": "630",
                                    "2": "281",
                                    "3": "37"
                                },
                                {
                                    "0": "2013",
                                    "1": "1598",
                                    "2": "280",
                                    "3": "19"
                                },
                                {
                                    "0": "2014",
                                    "1": "630",
                                    "2": "287",
                                    "3": "3"
                                },
                                {
                                    "0": "2013",
                                    "1": "1598",
                                    "2": "274",
                                    "3": "14"
                                }
                            ]
                        },
                        "text/html": [
                            "<table>",
                            "<tr><th>Year</th><th>TotalOrdersForYear</th><th>SalesPersonID</th><th>SalesPersonTotalOrders</th></tr>",
                            "<tr><td>2011</td><td>406</td><td>281</td><td>33</td></tr>",
                            "<tr><td>2012</td><td>1172</td><td>282</td><td>86</td></tr>",
                            "<tr><td>2013</td><td>1598</td><td>283</td><td>72</td></tr>",
                            "<tr><td>2014</td><td>630</td><td>276</td><td>59</td></tr>",
                            "<tr><td>2014</td><td>630</td><td>282</td><td>43</td></tr>",
                            "<tr><td>2013</td><td>1598</td><td>275</td><td>175</td></tr>",
                            "<tr><td>2014</td><td>630</td><td>290</td><td>39</td></tr>",
                            "<tr><td>2012</td><td>1172</td><td>279</td><td>153</td></tr>",
                            "<tr><td>2013</td><td>1598</td><td>289</td><td>170</td></tr>",
                            "<tr><td>2011</td><td>406</td><td>278</td><td>30</td></tr>",
                            "<tr><td>2011</td><td>406</td><td>275</td><td>65</td></tr>",
                            "<tr><td>2013</td><td>1598</td><td>286</td><td>66</td></tr>",
                            "<tr><td>2014</td><td>630</td><td>279</td><td>54</td></tr>",
                            "<tr><td>2012</td><td>1172</td><td>280</td><td>45</td></tr>",
                            "<tr><td>2012</td><td>1172</td><td>274</td><td>22</td></tr>",
                            "<tr><td>2011</td><td>406</td><td>279</td><td>63</td></tr>",
                            "<tr><td>2013</td><td>1598</td><td>290</td><td>94</td></tr>",
                            "<tr><td>2011</td><td>406</td><td>276</td><td>46</td></tr>",
                            "<tr><td>2013</td><td>1598</td><td>281</td><td>98</td></tr>",
                            "<tr><td>2014</td><td>630</td><td>274</td><td>8</td></tr>",
                            "<tr><td>2013</td><td>1598</td><td>287</td><td>29</td></tr>",
                            "<tr><td>2014</td><td>630</td><td>288</td><td>44</td></tr>",
                            "<tr><td>2012</td><td>1172</td><td>277</td><td>166</td></tr>",
                            "<tr><td>2012</td><td>1172</td><td>283</td><td>63</td></tr>",
                            "<tr><td>2013</td><td>1598</td><td>284</td><td>82</td></tr>",
                            "<tr><td>2014</td><td>630</td><td>277</td><td>63</td></tr>",
                            "<tr><td>2013</td><td>1598</td><td>278</td><td>89</td></tr>",
                            "<tr><td>2014</td><td>630</td><td>285</td><td>4</td></tr>",
                            "<tr><td>2012</td><td>1172</td><td>278</td><td>80</td></tr>",
                            "<tr><td>2011</td><td>406</td><td>274</td><td>4</td></tr>",
                            "<tr><td>2012</td><td>1172</td><td>289</td><td>111</td></tr>",
                            "<tr><td>2014</td><td>630</td><td>280</td><td>9</td></tr>",
                            "<tr><td>2013</td><td>1598</td><td>285</td><td>12</td></tr>",
                            "<tr><td>2013</td><td>1598</td><td>279</td><td>159</td></tr>",
                            "<tr><td>2014</td><td>630</td><td>286</td><td>43</td></tr>",
                            "<tr><td>2012</td><td>1172</td><td>275</td><td>148</td></tr>",
                            "<tr><td>2011</td><td>406</td><td>282</td><td>56</td></tr>",
                            "<tr><td>2012</td><td>1172</td><td>281</td><td>74</td></tr>",
                            "<tr><td>2013</td><td>1598</td><td>282</td><td>86</td></tr>",
                            "<tr><td>2014</td><td>630</td><td>283</td><td>26</td></tr>",
                            "<tr><td>2013</td><td>1598</td><td>276</td><td>162</td></tr>",
                            "<tr><td>2014</td><td>630</td><td>289</td><td>67</td></tr>",
                            "<tr><td>2011</td><td>406</td><td>283</td><td>28</td></tr>",
                            "<tr><td>2012</td><td>1172</td><td>276</td><td>151</td></tr>",
                            "<tr><td>2012</td><td>1172</td><td>284</td><td>24</td></tr>",
                            "<tr><td>2014</td><td>630</td><td>278</td><td>35</td></tr>",
                            "<tr><td>2013</td><td>1598</td><td>277</td><td>185</td></tr>",
                            "<tr><td>2014</td><td>630</td><td>284</td><td>34</td></tr>",
                            "<tr><td>2011</td><td>406</td><td>280</td><td>22</td></tr>",
                            "<tr><td>2012</td><td>1172</td><td>287</td><td>7</td></tr>",
                            "<tr><td>2012</td><td>1172</td><td>290</td><td>42</td></tr>",
                            "<tr><td>2011</td><td>406</td><td>277</td><td>59</td></tr>",
                            "<tr><td>2013</td><td>1598</td><td>288</td><td>86</td></tr>",
                            "<tr><td>2014</td><td>630</td><td>275</td><td>62</td></tr>",
                            "<tr><td>2014</td><td>630</td><td>281</td><td>37</td></tr>",
                            "<tr><td>2013</td><td>1598</td><td>280</td><td>19</td></tr>",
                            "<tr><td>2014</td><td>630</td><td>287</td><td>3</td></tr>",
                            "<tr><td>2013</td><td>1598</td><td>274</td><td>14</td></tr>",
                            "</table>"
                        ]
                    }
                }
            ],
            "execution_count": 27
        }
    ]
}